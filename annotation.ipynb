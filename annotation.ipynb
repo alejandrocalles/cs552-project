{
 "cells": [
  {
   "cell_type": "code",
   "execution_count": null,
   "id": "f730e5da",
   "metadata": {},
   "outputs": [],
   "source": [
    "import json\n",
    "from IPython.display import display, clear_output\n",
    "import ipywidgets as widgets"
   ]
  },
  {
   "cell_type": "code",
   "execution_count": 2,
   "id": "a6fd314c",
   "metadata": {},
   "outputs": [
    {
     "name": "stdout",
     "output_type": "stream",
     "text": [
      "dict_keys(['id', 'url', 'title', 'text'])\n"
     ]
    }
   ],
   "source": [
    "DATAPATH = 'wikipedia-subset.json'\n",
    "\n",
    "def load_data(datapath=DATAPATH):\n",
    "    with open(datapath) as file:\n",
    "        return json.load(file)\n",
    "\n",
    "def save_data(data, datapath=DATAPATH):\n",
    "    with open(datapath, 'w') as file:\n",
    "        json.dump(data, file, indent=4)\n",
    "\n",
    "data = load_data(DATAPATH)\n",
    "print(data[0].keys())"
   ]
  },
  {
   "cell_type": "code",
   "execution_count": null,
   "id": "2816d7bf",
   "metadata": {},
   "outputs": [
    {
     "data": {
      "application/vnd.jupyter.widget-view+json": {
       "model_id": "96f94e7ee3634055a40e9a6fa23ab2c7",
       "version_major": 2,
       "version_minor": 0
      },
      "text/plain": [
       "HBox(children=(Button(description='Previous', layout=Layout(width='100px'), style=ButtonStyle()), Label(value=…"
      ]
     },
     "metadata": {},
     "output_type": "display_data"
    },
    {
     "data": {
      "application/vnd.jupyter.widget-view+json": {
       "model_id": "98883827014245fda3e6f1c9c2e3e2b2",
       "version_major": 2,
       "version_minor": 0
      },
      "text/plain": [
       "VBox(children=(Output(), Output()))"
      ]
     },
     "metadata": {},
     "output_type": "display_data"
    },
    {
     "data": {
      "application/vnd.jupyter.widget-view+json": {
       "model_id": "5b390fa237874138bf1f40eff73753f3",
       "version_major": 2,
       "version_minor": 0
      },
      "text/plain": [
       "HBox(children=(Button(button_style='success', description='Yes (Computer Science)', layout=Layout(width='200px…"
      ]
     },
     "metadata": {},
     "output_type": "display_data"
    }
   ],
   "source": [
    "current_index = 0\n",
    "\n",
    "output = widgets.Output()\n",
    "\n",
    "prev_button = widgets.Button(description=\"Previous\", layout=widgets.Layout(width='100px'))\n",
    "next_button = widgets.Button(description=\"Next\", layout=widgets.Layout(width='100px'))\n",
    "\n",
    "index_label = widgets.Label(value=f\"Article {current_index + 1} of {len(data)}\")\n",
    "\n",
    "article_title_output = widgets.Output()\n",
    "article_abstract_output = widgets.Output()\n",
    "\n",
    "\n",
    "button_layout = widgets.Layout(width='200px')  \n",
    "\n",
    "yes_button = widgets.Button(description='Yes (Computer Science)', button_style='info', layout=button_layout)\n",
    "no_button = widgets.Button(description='No (Other)', button_style='info', layout=button_layout)\n",
    "\n",
    "def display_article(index):\n",
    "    article = data[index]\n",
    "    title = article['title']\n",
    "    abstract = article['text'].split('\\n')[0]\n",
    "    with article_title_output:\n",
    "        clear_output()\n",
    "        display(widgets.Label(value=title))\n",
    "    with article_abstract_output:\n",
    "        clear_output()\n",
    "        display(widgets.HTML(value=abstract))\n",
    "    yes_button.on_click(set_yes)\n",
    "    if 'is_computer_science' in article and article['is_computer_science'] == 1:\n",
    "        yes_button.button_style = 'success'\n",
    "    else:\n",
    "        yes_button.button_style = 'info'\n",
    "\n",
    "    no_button.on_click(set_no)\n",
    "    if 'is_computer_science' in article and article['is_computer_science'] == 0:\n",
    "        no_button.button_style = 'success'\n",
    "    else:\n",
    "        no_button.button_style = 'info'\n",
    "    \n",
    "    index_label.value = f\"Article {index + 1} of {len(data)}\"\n",
    "\n",
    "\n",
    "def set_yes(button):\n",
    "    data[current_index]['is_computer_science'] = 1\n",
    "    next()\n",
    "\n",
    "def set_no(button):\n",
    "    data[current_index]['is_computer_science'] = 0\n",
    "    next()\n",
    "\n",
    "def next():\n",
    "    global current_index\n",
    "    save_data(data)\n",
    "    if current_index < len(data) - 1:\n",
    "        current_index += 1\n",
    "    display_article(current_index)\n",
    "\n",
    "def change_article(b):\n",
    "    global current_index\n",
    "    if b.description == \"Next\":\n",
    "        save_data(data)\n",
    "        if current_index < len(data) - 1:\n",
    "            current_index += 1\n",
    "    elif b.description == \"Previous\":\n",
    "        if current_index > 0:\n",
    "            current_index -= 1\n",
    "    display_article(current_index)\n",
    "\n",
    "prev_button.on_click(change_article)\n",
    "next_button.on_click(change_article)\n",
    "\n",
    "navigation_layout = widgets.HBox([prev_button, index_label, next_button])\n",
    "main_layout = widgets.VBox([article_title_output, article_abstract_output])\n",
    "buttons_layout = widgets.HBox([yes_button, no_button])\n",
    "\n",
    "display_article(current_index)\n",
    "display(navigation_layout, main_layout, buttons_layout)"
   ]
  }
 ],
 "metadata": {
  "kernelspec": {
   "display_name": ".venv",
   "language": "python",
   "name": "python3"
  },
  "language_info": {
   "codemirror_mode": {
    "name": "ipython",
    "version": 3
   },
   "file_extension": ".py",
   "mimetype": "text/x-python",
   "name": "python",
   "nbconvert_exporter": "python",
   "pygments_lexer": "ipython3",
   "version": "3.12.9"
  }
 },
 "nbformat": 4,
 "nbformat_minor": 5
}
